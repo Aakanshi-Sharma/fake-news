{
 "cells": [
  {
   "cell_type": "code",
   "execution_count": 1,
   "id": "823c582b",
   "metadata": {},
   "outputs": [],
   "source": [
    "import numpy\n",
    "import pandas as pd\n",
    "from nltk.corpus import stopwords\n",
    "from nltk.stem.porter import PorterStemmer\n",
    "from sklearn.feature_extraction.text import TfidfVectorizer\n",
    "import string"
   ]
  },
  {
   "cell_type": "code",
   "execution_count": 2,
   "id": "5dc34385",
   "metadata": {},
   "outputs": [
    {
     "name": "stderr",
     "output_type": "stream",
     "text": [
      "[nltk_data] Downloading package stopwords to\n",
      "[nltk_data]     C:\\Users\\DELL\\AppData\\Roaming\\nltk_data...\n",
      "[nltk_data]   Package stopwords is already up-to-date!\n"
     ]
    }
   ],
   "source": [
    "import nltk\n",
    "nltk.download(\"stopwords\")\n",
    "\n",
    "stopingWords=stopwords.words(\"english\")"
   ]
  },
  {
   "cell_type": "code",
   "execution_count": 3,
   "id": "170a40b0",
   "metadata": {},
   "outputs": [],
   "source": [
    "df=pd.read_csv(\"train.csv\")"
   ]
  },
  {
   "cell_type": "code",
   "execution_count": 4,
   "id": "7134b37e",
   "metadata": {},
   "outputs": [
    {
     "data": {
      "text/html": [
       "<div>\n",
       "<style scoped>\n",
       "    .dataframe tbody tr th:only-of-type {\n",
       "        vertical-align: middle;\n",
       "    }\n",
       "\n",
       "    .dataframe tbody tr th {\n",
       "        vertical-align: top;\n",
       "    }\n",
       "\n",
       "    .dataframe thead th {\n",
       "        text-align: right;\n",
       "    }\n",
       "</style>\n",
       "<table border=\"1\" class=\"dataframe\">\n",
       "  <thead>\n",
       "    <tr style=\"text-align: right;\">\n",
       "      <th></th>\n",
       "      <th>id</th>\n",
       "      <th>title</th>\n",
       "      <th>author</th>\n",
       "      <th>text</th>\n",
       "      <th>label</th>\n",
       "    </tr>\n",
       "  </thead>\n",
       "  <tbody>\n",
       "    <tr>\n",
       "      <th>0</th>\n",
       "      <td>0</td>\n",
       "      <td>House Dem Aide: We Didn’t Even See Comey’s Let...</td>\n",
       "      <td>Darrell Lucus</td>\n",
       "      <td>House Dem Aide: We Didn’t Even See Comey’s Let...</td>\n",
       "      <td>1</td>\n",
       "    </tr>\n",
       "    <tr>\n",
       "      <th>1</th>\n",
       "      <td>1</td>\n",
       "      <td>FLYNN: Hillary Clinton, Big Woman on Campus - ...</td>\n",
       "      <td>Daniel J. Flynn</td>\n",
       "      <td>Ever get the feeling your life circles the rou...</td>\n",
       "      <td>0</td>\n",
       "    </tr>\n",
       "    <tr>\n",
       "      <th>2</th>\n",
       "      <td>2</td>\n",
       "      <td>Why the Truth Might Get You Fired</td>\n",
       "      <td>Consortiumnews.com</td>\n",
       "      <td>Why the Truth Might Get You Fired October 29, ...</td>\n",
       "      <td>1</td>\n",
       "    </tr>\n",
       "    <tr>\n",
       "      <th>3</th>\n",
       "      <td>3</td>\n",
       "      <td>15 Civilians Killed In Single US Airstrike Hav...</td>\n",
       "      <td>Jessica Purkiss</td>\n",
       "      <td>Videos 15 Civilians Killed In Single US Airstr...</td>\n",
       "      <td>1</td>\n",
       "    </tr>\n",
       "    <tr>\n",
       "      <th>4</th>\n",
       "      <td>4</td>\n",
       "      <td>Iranian woman jailed for fictional unpublished...</td>\n",
       "      <td>Howard Portnoy</td>\n",
       "      <td>Print \\nAn Iranian woman has been sentenced to...</td>\n",
       "      <td>1</td>\n",
       "    </tr>\n",
       "    <tr>\n",
       "      <th>5</th>\n",
       "      <td>5</td>\n",
       "      <td>Jackie Mason: Hollywood Would Love Trump if He...</td>\n",
       "      <td>Daniel Nussbaum</td>\n",
       "      <td>In these trying times, Jackie Mason is the Voi...</td>\n",
       "      <td>0</td>\n",
       "    </tr>\n",
       "    <tr>\n",
       "      <th>6</th>\n",
       "      <td>6</td>\n",
       "      <td>Life: Life Of Luxury: Elton John’s 6 Favorite ...</td>\n",
       "      <td>NaN</td>\n",
       "      <td>Ever wonder how Britain’s most iconic pop pian...</td>\n",
       "      <td>1</td>\n",
       "    </tr>\n",
       "    <tr>\n",
       "      <th>7</th>\n",
       "      <td>7</td>\n",
       "      <td>Benoît Hamon Wins French Socialist Party’s Pre...</td>\n",
       "      <td>Alissa J. Rubin</td>\n",
       "      <td>PARIS  —   France chose an idealistic, traditi...</td>\n",
       "      <td>0</td>\n",
       "    </tr>\n",
       "    <tr>\n",
       "      <th>8</th>\n",
       "      <td>8</td>\n",
       "      <td>Excerpts From a Draft Script for Donald Trump’...</td>\n",
       "      <td>NaN</td>\n",
       "      <td>Donald J. Trump is scheduled to make a highly ...</td>\n",
       "      <td>0</td>\n",
       "    </tr>\n",
       "    <tr>\n",
       "      <th>9</th>\n",
       "      <td>9</td>\n",
       "      <td>A Back-Channel Plan for Ukraine and Russia, Co...</td>\n",
       "      <td>Megan Twohey and Scott Shane</td>\n",
       "      <td>A week before Michael T. Flynn resigned as nat...</td>\n",
       "      <td>0</td>\n",
       "    </tr>\n",
       "  </tbody>\n",
       "</table>\n",
       "</div>"
      ],
      "text/plain": [
       "   id                                              title  \\\n",
       "0   0  House Dem Aide: We Didn’t Even See Comey’s Let...   \n",
       "1   1  FLYNN: Hillary Clinton, Big Woman on Campus - ...   \n",
       "2   2                  Why the Truth Might Get You Fired   \n",
       "3   3  15 Civilians Killed In Single US Airstrike Hav...   \n",
       "4   4  Iranian woman jailed for fictional unpublished...   \n",
       "5   5  Jackie Mason: Hollywood Would Love Trump if He...   \n",
       "6   6  Life: Life Of Luxury: Elton John’s 6 Favorite ...   \n",
       "7   7  Benoît Hamon Wins French Socialist Party’s Pre...   \n",
       "8   8  Excerpts From a Draft Script for Donald Trump’...   \n",
       "9   9  A Back-Channel Plan for Ukraine and Russia, Co...   \n",
       "\n",
       "                         author  \\\n",
       "0                 Darrell Lucus   \n",
       "1               Daniel J. Flynn   \n",
       "2            Consortiumnews.com   \n",
       "3               Jessica Purkiss   \n",
       "4                Howard Portnoy   \n",
       "5               Daniel Nussbaum   \n",
       "6                           NaN   \n",
       "7               Alissa J. Rubin   \n",
       "8                           NaN   \n",
       "9  Megan Twohey and Scott Shane   \n",
       "\n",
       "                                                text  label  \n",
       "0  House Dem Aide: We Didn’t Even See Comey’s Let...      1  \n",
       "1  Ever get the feeling your life circles the rou...      0  \n",
       "2  Why the Truth Might Get You Fired October 29, ...      1  \n",
       "3  Videos 15 Civilians Killed In Single US Airstr...      1  \n",
       "4  Print \\nAn Iranian woman has been sentenced to...      1  \n",
       "5  In these trying times, Jackie Mason is the Voi...      0  \n",
       "6  Ever wonder how Britain’s most iconic pop pian...      1  \n",
       "7  PARIS  —   France chose an idealistic, traditi...      0  \n",
       "8  Donald J. Trump is scheduled to make a highly ...      0  \n",
       "9  A week before Michael T. Flynn resigned as nat...      0  "
      ]
     },
     "execution_count": 4,
     "metadata": {},
     "output_type": "execute_result"
    }
   ],
   "source": [
    "df.head(10)"
   ]
  },
  {
   "cell_type": "code",
   "execution_count": 5,
   "id": "ec96f843",
   "metadata": {},
   "outputs": [
    {
     "data": {
      "text/plain": [
       "(20800, 5)"
      ]
     },
     "execution_count": 5,
     "metadata": {},
     "output_type": "execute_result"
    }
   ],
   "source": [
    "df.shape"
   ]
  },
  {
   "cell_type": "code",
   "execution_count": 6,
   "id": "94734175",
   "metadata": {},
   "outputs": [
    {
     "data": {
      "text/plain": [
       "id           0\n",
       "title      558\n",
       "author    1957\n",
       "text        39\n",
       "label        0\n",
       "dtype: int64"
      ]
     },
     "execution_count": 6,
     "metadata": {},
     "output_type": "execute_result"
    }
   ],
   "source": [
    "df.isnull().sum()"
   ]
  },
  {
   "cell_type": "code",
   "execution_count": 7,
   "id": "6028049c",
   "metadata": {},
   "outputs": [],
   "source": [
    "df=df.fillna(\"\")"
   ]
  },
  {
   "cell_type": "code",
   "execution_count": 8,
   "id": "8f259762",
   "metadata": {},
   "outputs": [
    {
     "data": {
      "text/plain": [
       "id        0\n",
       "title     0\n",
       "author    0\n",
       "text      0\n",
       "label     0\n",
       "dtype: int64"
      ]
     },
     "execution_count": 8,
     "metadata": {},
     "output_type": "execute_result"
    }
   ],
   "source": [
    "df.isnull().sum()"
   ]
  },
  {
   "cell_type": "code",
   "execution_count": 9,
   "id": "f9933367",
   "metadata": {},
   "outputs": [],
   "source": [
    "df[\"content\"]=df[\"title\"]+\" \"+df[\"author\"]+\" \"+df[\"text\"]"
   ]
  },
  {
   "cell_type": "code",
   "execution_count": 10,
   "id": "d1f1dcde",
   "metadata": {},
   "outputs": [
    {
     "data": {
      "text/plain": [
       "0"
      ]
     },
     "execution_count": 10,
     "metadata": {},
     "output_type": "execute_result"
    }
   ],
   "source": [
    "df.duplicated().sum()"
   ]
  },
  {
   "cell_type": "code",
   "execution_count": 11,
   "id": "0e8af365",
   "metadata": {},
   "outputs": [],
   "source": [
    "df=df.drop([\"title\", \"author\", \"text\"], axis=1)"
   ]
  },
  {
   "cell_type": "code",
   "execution_count": 12,
   "id": "84195502",
   "metadata": {},
   "outputs": [
    {
     "data": {
      "text/html": [
       "<div>\n",
       "<style scoped>\n",
       "    .dataframe tbody tr th:only-of-type {\n",
       "        vertical-align: middle;\n",
       "    }\n",
       "\n",
       "    .dataframe tbody tr th {\n",
       "        vertical-align: top;\n",
       "    }\n",
       "\n",
       "    .dataframe thead th {\n",
       "        text-align: right;\n",
       "    }\n",
       "</style>\n",
       "<table border=\"1\" class=\"dataframe\">\n",
       "  <thead>\n",
       "    <tr style=\"text-align: right;\">\n",
       "      <th></th>\n",
       "      <th>id</th>\n",
       "      <th>label</th>\n",
       "      <th>content</th>\n",
       "    </tr>\n",
       "  </thead>\n",
       "  <tbody>\n",
       "    <tr>\n",
       "      <th>0</th>\n",
       "      <td>0</td>\n",
       "      <td>1</td>\n",
       "      <td>House Dem Aide: We Didn’t Even See Comey’s Let...</td>\n",
       "    </tr>\n",
       "    <tr>\n",
       "      <th>1</th>\n",
       "      <td>1</td>\n",
       "      <td>0</td>\n",
       "      <td>FLYNN: Hillary Clinton, Big Woman on Campus - ...</td>\n",
       "    </tr>\n",
       "    <tr>\n",
       "      <th>2</th>\n",
       "      <td>2</td>\n",
       "      <td>1</td>\n",
       "      <td>Why the Truth Might Get You Fired Consortiumne...</td>\n",
       "    </tr>\n",
       "    <tr>\n",
       "      <th>3</th>\n",
       "      <td>3</td>\n",
       "      <td>1</td>\n",
       "      <td>15 Civilians Killed In Single US Airstrike Hav...</td>\n",
       "    </tr>\n",
       "    <tr>\n",
       "      <th>4</th>\n",
       "      <td>4</td>\n",
       "      <td>1</td>\n",
       "      <td>Iranian woman jailed for fictional unpublished...</td>\n",
       "    </tr>\n",
       "  </tbody>\n",
       "</table>\n",
       "</div>"
      ],
      "text/plain": [
       "   id  label                                            content\n",
       "0   0      1  House Dem Aide: We Didn’t Even See Comey’s Let...\n",
       "1   1      0  FLYNN: Hillary Clinton, Big Woman on Campus - ...\n",
       "2   2      1  Why the Truth Might Get You Fired Consortiumne...\n",
       "3   3      1  15 Civilians Killed In Single US Airstrike Hav...\n",
       "4   4      1  Iranian woman jailed for fictional unpublished..."
      ]
     },
     "execution_count": 12,
     "metadata": {},
     "output_type": "execute_result"
    }
   ],
   "source": [
    "df.head()"
   ]
  },
  {
   "cell_type": "code",
   "execution_count": 13,
   "id": "f650b621",
   "metadata": {},
   "outputs": [],
   "source": [
    "ps=PorterStemmer()\n",
    "\n",
    "def stemming(text):\n",
    "    text=text.lower()\n",
    "    a=text.split(\" \")\n",
    "    p=[]\n",
    "    for i in a:\n",
    "        i=\"\".join([j for j in i if j not in string.punctuation])\n",
    "        if i not in string.punctuation and i not in stopingWords:\n",
    "            p.append(ps.stem(i))\n",
    "    return  \" \".join(p)\n"
   ]
  },
  {
   "cell_type": "code",
   "execution_count": 14,
   "id": "fbcc07a6",
   "metadata": {},
   "outputs": [],
   "source": [
    "df[\"content\"]=df[\"content\"].apply(stemming)"
   ]
  },
  {
   "cell_type": "code",
   "execution_count": 15,
   "id": "603b6baf",
   "metadata": {},
   "outputs": [
    {
     "data": {
      "text/plain": [
       "0        hous dem aid didn’t even see comey’ letter jas...\n",
       "1        flynn hillari clinton big woman campu breitbar...\n",
       "2        truth might get fire consortiumnewscom truth m...\n",
       "3        15 civilian kill singl us airstrik identifi je...\n",
       "4        iranian woman jail fiction unpublish stori wom...\n",
       "                               ...                        \n",
       "20795    rapper ti trump ’poster child white supremacy’...\n",
       "20796    nfl playoff schedul matchup odd new york time ...\n",
       "20797    macy’ said receiv takeov approach hudson’ bay ...\n",
       "20798    nato russia hold parallel exercis balkan alex ...\n",
       "20799    keep f35 aliv david swanson david swanson auth...\n",
       "Name: content, Length: 20800, dtype: object"
      ]
     },
     "execution_count": 15,
     "metadata": {},
     "output_type": "execute_result"
    }
   ],
   "source": [
    "df[\"content\"]"
   ]
  },
  {
   "cell_type": "code",
   "execution_count": 16,
   "id": "3e3da3e2",
   "metadata": {},
   "outputs": [
    {
     "data": {
      "text/html": [
       "<div>\n",
       "<style scoped>\n",
       "    .dataframe tbody tr th:only-of-type {\n",
       "        vertical-align: middle;\n",
       "    }\n",
       "\n",
       "    .dataframe tbody tr th {\n",
       "        vertical-align: top;\n",
       "    }\n",
       "\n",
       "    .dataframe thead th {\n",
       "        text-align: right;\n",
       "    }\n",
       "</style>\n",
       "<table border=\"1\" class=\"dataframe\">\n",
       "  <thead>\n",
       "    <tr style=\"text-align: right;\">\n",
       "      <th></th>\n",
       "      <th>id</th>\n",
       "      <th>label</th>\n",
       "      <th>content</th>\n",
       "    </tr>\n",
       "  </thead>\n",
       "  <tbody>\n",
       "    <tr>\n",
       "      <th>0</th>\n",
       "      <td>0</td>\n",
       "      <td>1</td>\n",
       "      <td>hous dem aid didn’t even see comey’ letter jas...</td>\n",
       "    </tr>\n",
       "    <tr>\n",
       "      <th>1</th>\n",
       "      <td>1</td>\n",
       "      <td>0</td>\n",
       "      <td>flynn hillari clinton big woman campu breitbar...</td>\n",
       "    </tr>\n",
       "    <tr>\n",
       "      <th>2</th>\n",
       "      <td>2</td>\n",
       "      <td>1</td>\n",
       "      <td>truth might get fire consortiumnewscom truth m...</td>\n",
       "    </tr>\n",
       "    <tr>\n",
       "      <th>3</th>\n",
       "      <td>3</td>\n",
       "      <td>1</td>\n",
       "      <td>15 civilian kill singl us airstrik identifi je...</td>\n",
       "    </tr>\n",
       "    <tr>\n",
       "      <th>4</th>\n",
       "      <td>4</td>\n",
       "      <td>1</td>\n",
       "      <td>iranian woman jail fiction unpublish stori wom...</td>\n",
       "    </tr>\n",
       "  </tbody>\n",
       "</table>\n",
       "</div>"
      ],
      "text/plain": [
       "   id  label                                            content\n",
       "0   0      1  hous dem aid didn’t even see comey’ letter jas...\n",
       "1   1      0  flynn hillari clinton big woman campu breitbar...\n",
       "2   2      1  truth might get fire consortiumnewscom truth m...\n",
       "3   3      1  15 civilian kill singl us airstrik identifi je...\n",
       "4   4      1  iranian woman jail fiction unpublish stori wom..."
      ]
     },
     "execution_count": 16,
     "metadata": {},
     "output_type": "execute_result"
    }
   ],
   "source": [
    "df.head()"
   ]
  },
  {
   "cell_type": "code",
   "execution_count": 17,
   "id": "20a0f639",
   "metadata": {},
   "outputs": [],
   "source": [
    "x=df[\"content\"].values\n",
    "y=df[\"label\"].values"
   ]
  },
  {
   "cell_type": "code",
   "execution_count": 18,
   "id": "ed57e250",
   "metadata": {},
   "outputs": [
    {
     "data": {
      "text/plain": [
       "array([1, 0, 1, ..., 0, 1, 1], dtype=int64)"
      ]
     },
     "execution_count": 18,
     "metadata": {},
     "output_type": "execute_result"
    }
   ],
   "source": [
    "y"
   ]
  },
  {
   "cell_type": "code",
   "execution_count": 19,
   "id": "f4c81fe3",
   "metadata": {},
   "outputs": [
    {
     "name": "stdout",
     "output_type": "stream",
     "text": [
      "['hous dem aid didn’t even see comey’ letter jason chaffetz tweet darrel lucu hous dem aid didn’t even see comey’ letter jason chaffetz tweet darrel lucu octob 30 2016 subscrib jason chaffetz stump american fork utah imag courtesi michael jolley avail creativ commonsbi licens \\nwith apolog keith olbermann doubt worst person world week–fbi director jame comey accord hous democrat aid look like also know secondworst person well turn comey sent nowinfam letter announc fbi look email may relat hillari clinton’ email server rank democrat relev committe didn’t hear comey found via tweet one republican committe chairmen \\na know comey notifi republican chairmen democrat rank member hous intellig judiciari oversight committe agenc review email recent discov order see contain classifi inform long letter went oversight committe chairman jason chaffetz set polit world ablaz tweet fbi dir inform fbi learn exist email appear pertin investig case reopen \\n— jason chaffetz jasoninthehous octob 28 2016 \\nof cours know case comey actual say review email light “an unrel case”–which know anthoni weiner’ sext teenag appar littl thing fact didn’t matter chaffetz utah republican alreadi vow initi raft investig hillari wins–at least two years’ worth possibl entir term’ worth appar chaffetz thought fbi alreadi work him–result tweet briefli roil nation cooler head realiz dud \\nbut accord senior hous democrat aid misread letter may least chaffetz’ sin aid told shareblu boss democrat didn’t even know comey’ letter time–and found check twitter “democrat rank member relev committe didn’t receiv comey’ letter republican chairmen fact democrat rank member didn’ receiv chairman oversight govern reform committe jason chaffetz tweet made public” \\nso let’ see we’v got right fbi director tell chaffetz gop committe chairmen major develop potenti polit explos investig neither chaffetz colleagu courtesi let democrat counterpart know instead accord aid made find twitter \\nthere alreadi talk daili ko comey provid advanc notic letter chaffetz republican give time turn spin machin may make good theater noth far even suggest case noth far suggest comey anyth grossli incompet tonedeaf \\nwhat suggest howev chaffetz act way make dan burton darrel issa look like model respons bipartisanship didn’t even decenc notifi rank member elijah cum someth explos doesn’t trampl basic standard fair don’t know \\ngrant it’ like chaffetz answer sit ridicul republican district anchor provo orem cook partisan vote index r25 gave mitt romney punish 78 percent vote 2012 moreov republican hous leadership given full support chaffetz’ plan fish expedit doesn’t mean can’t turn hot light textbook exampl hous becom republican control also second worst person world darrel lucu \\ndarrel 30someth graduat univers north carolina consid journalist old school attempt turn member religi right colleg succeed turn religi right worst nightmarea charismat christian unapologet liber desir stand scare silenc increas surviv abus threeyear marriag may know daili ko christian dem nc follow twitter darrelllucu connect facebook click buy darrel mello yello connect'\n",
      " 'flynn hillari clinton big woman campu breitbart daniel j flynn ever get feel life circl roundabout rather head straight line toward intend destin hillari clinton remain big woman campu leafi liber wellesley massachusett everywher els vote like inaugur dress remaind day way miss havisham forev wore wed dress speak great expect hillari rodham overflow 48 year ago first address wellesley graduat class presid colleg inform gather 1969 student need “no debat far could ascertain spokesman be” kind like democrat primari 2016 minu term unknown even seven sister school “i glad miss adam made clear speak today us — 400 us” miss rodham told classmat appoint edger bergen charli mccarthi mortim snerd attend bespectacl granni glass award matronli wisdom — least john lennon wisdom took issu previou speaker despit becom first win elect seat u senat sinc reconstruct edward brook came critic call “empathy” goal protestor critic tactic though clinton senior thesi saul alinski lament “black power demagogues” “elitist arrog repress intolerance” within new left similar word come republican necessit brief rebutt “trust” rodham iron observ 1969 “thi one word ask class rehears want say everyon came said ‘talk trust talk lack trust us way feel other talk trust bust’ say say feel permeat gener perhap even understood distrusted” “trust bust” certainli bust clinton’ 2016 plan certainli even understand peopl distrust whitewat travelg vast conspiraci benghazi miss email clinton found distrust voic friday load compromis road broaden polit horizon distrust american peopl — trump edg 48 percent 38 percent question immedi prior november’ elect — stood major reason close horizon clinton describ vanquish support embrac “lie” “con” “altern facts” “a assault truth reason ” fail explain american peopl chose lie truth “a histori major among today know well peopl power invent fact attack question mark begin end free society” offer “that hyperbol ” like mani peopl emerg 1960 hillari clinton embark upon long strang trip high school goldwat girl wellesley colleg republican presid democrat politician clinton drank time place gave degre significantli went idealist cynic comparison two wellesley commenc address show way back lament “for long leader view polit art possibl challeng practic polit art make appear imposs possibl ” big woman campu odd woman white hous wonder current station even possibl “whi aren’t 50 point ahead” ask septemb may ask isn’t presid woman famous dub “congenit liar” bill safir conclud lie — mind get stood elect day like find jilt bride wed day inspir danger delus'\n",
      " 'truth might get fire consortiumnewscom truth might get fire octob 29 2016 \\nthe tension intellig analyst polit policymak alway honest assess desir result latter often overwhelm former iraq war write lawrenc davidson \\nbi lawrenc davidson \\nfor might wonder foreign polici maker repeatedli make bad choic insight might drawn follow analysi action play unit state lesson probabl univers \\nback earli spring 2003 georg w bush initi invas iraq one key public reason claim country’ dictat saddam hussein verg develop nuclear weapon hide weapon mass destruct real reason went beyond charg includ longrang plan “regim change” middl east presid georg w bush vice presid dick cheney receiv oval offic brief cia director georg tenet also present chief staff andi card right white hous photo \\nfor purpos concentr belief iraq becom hostil nuclear power presid bush close associ accept scenario readili \\nthe short answer bush want inde need believ rational invad iraq first tri connect saddam hussein 911 attack us though never gave stratagem lack evid made difficult ralli american peopl alreadi fixat afghanistan support war baghdad \\nbut nuclear weapon gambit prove fruit hard evid charg supposedli reliabl wit person exil antisaddam iraqi mani us government’ payrol kept tell bush advis nuclear stori true \\nwhat us leadership cadr whose worldview liter demand mortal danger iraq inform order precipit overthrow saddam will tell tale pend atom weapon strong desir believ tale nuclear iraq lower threshold proof likewis repeat assert assum depend iraqi sourc underpin nationwid us campaign gener fear war fever \\nso us alli insist unit nation send weapon inspector scour iraq evid nuclear weapon program well chemic biolog weapon inspector could find convinc evid frustrat bush administr soon forc hand \\non march 19 2003 bush launch invas iraq expect occup countri us inspector would sure find evid nuke least stockpil chemic biolog weapon iraqi inform systemat lie \\nsocial behavior scienc rescu \\nthe variou us intellig agenc thoroughli shaken affair today 13 year later director manag still tri sort – specif tell get “true” intellig lie one intellig worker put need “ help protect us armi snake oil salesmen ” end cia et al market academ assist ahm chalabi head iraqi nation congress key supplier iraqi defector bogu stori hidden wmd \\na “partnership” forg offic director nation intellig odni serv coordin center sixteen independ us intellig agenc nation academi scienc engin medicin result collabor “ perman intellig commun studi board” coordin program “social behavior scienc research might strengthen nation secur ” \\ndespit effort almost certain “social behavior sciences” cannot give spi agenc want – way detect lie better present standard procedur polygraph test interrog even could might well make differ real problem found liar found believ \\nthe believ \\nit simpli true odni leader seem assert us intellig agenc personnel cannot tell often lie case thousand middleechelon intellig worker desk offic specialist know someth close approach truth – know pretti well go place like afghanistan iraq syria libya israel palestin elsewher director nation intellig jame clapper right talk presid barack obama oval offic john brennan nation secur aid present photo credit offic director nation intellig \\ntherefor someon feed “snake oil” usual know howev accur grasp thing often avail superior – got appoint accept prestructur worldview – differ criterion “true” analyst \\nlisten charl gaukel nation intellig council – yet anoth organ act meet ground 16 intellig agenc refer search way avoid get taken lie gaukel declar “ we’r look truth we’r particularli look truth work ” might mean \\ni certainli tell mean histor mean power broker “truth” must match fit worldview – polit ideolog precept fit “work” intellig specialist send usual accur assess line polici maker often hit roadblock caus “group think” ideolog blinker “we know better” attitud \\non hand long you’r sell leadership match want believ peddl anyth imaginari iraqi nuke israel westernstyl democraci saudi arabia indispens alli libya liber countri bashar alassad real roadblock peac syria strateg defens initi sdi aka star war world get colder warmer american exception glori – list almost endless \\nwhat sad tale tell us want spend million dollar social behavior scienc research improv assess use intellig forget liar want look antidot narrowminded believ – policymak seem abl rise ideolog presumpt class – presumpt underpin selfconfid lead us slipperi slope \\nit happen way often mani place sourc shakespeare’ determin “what past prelude” elit play destini free – capac break structur way see yet middleechelon specialist keep send rel accur assess ladder power hope spring etern'\n",
      " ...\n",
      " 'macy’ said receiv takeov approach hudson’ bay new york time michael j de la merc rachel abram macy’ today grew union sever great name american retail includ namesak chain bloomingdale’ marshal field’ ambiti owner sak fifth avenu broach idea take union even combin macy’ creat depart store juggernaut time industri reel hudson’ bay compani canadian owner sak approach macy’ potenti takeov peopl brief matter author speak publicli said friday talk two compani earli stage may still fall apart lead partnership kind rather sale unclear whether deal happen combin could lift fortun macy’ country’ biggest depart store struggl investor certainli appear see way share macy’ rose much 12 percent friday biggest intraday gain sinc aug 11 accord data bloomberg retail titan macy’ struggl remain relev discount retail decim tradit busi last month macy’ announc plan cut 10 000 job close 880 store terri lundgren chief execut architect macy’ last big merger expect step end march succeed company’ presid jeffrey gennett sinc recess shopper grown accustom hunt bargain pay full price discount store outlet mall flourish tradit store compel respond trim price cut margin depart store hit especi hard particularli shopper migrat away mall emerg analyst say virtual race bottom particularli difficult macy’ born seri merger past two decad made juggernaut industri stalwart middl tier retail compani neither advantag retail like hm store addit macy’ face increasingli fierc competit onlin site like amazon elsewher macy’ troubl drawn attent promin activist hedg fund starboard valu urg compani gener cash sell real estat beneath store starboard held 1 percent macy’ share sept 30 previous estim valu land 21 billion friday analyst citigroup estim macy’ hold could worth least 18 billion macy’ market valu comparison 11 billion friday morn macy’ taken step sell redevelop store last year ad expert real estat transact board compani larg resist ambiti effort divest real estat includ deal compani sell underli land beneath store rent back company’ suitor hudson’ bay compani far smaller — market valu 1 9 billion canadian dollar 1 5 billion — known bold step hudson’ bay compani assembl grow empir includ hudson’ bay depart store chain lord taylor crown jewel sak governor execut chairman hudson’ bay compani richard baker shown littl fear use debt novemb 2014 compani borrow nearli 4 billion sak flagship midtown manhattan spoken often retailers’ need highlight valu real estat financ bid macy’ may trickier howev carri 6 5 billion debt may mean hudson’ bay compani bring partner borrow real estat hold spokesman hudson’ bay compani declin comment talk report earlier wall street journal “we comment rumor speculation” repres macy’ said repres starboard valu respond request comment analyst said saw merit potenti combin particularli given macy’ oper woe mr baker’ expertis wring money real estat “there clear logic despit dispar cap” macy’ hudson’ bay compani craig johnson presid custom growth partner research firm said note refer macy’ stock ticker symbol ad “the retail market chang faster abl keep whether flight mall migrat onlin ”'\n",
      " 'nato russia hold parallel exercis balkan alex ansari nato russia hold parallel exercis balkan 11022016 \\npress tv \\nrussia’ militari nato forc hold parallel militari exercis two neighbor balkan countri \\nrussian troop particip war game serbia nato conduct militari drill montenegro media report monday \\nrussian forces’ 13day militari exercis serbia name “the slavic brotherhood 2016” begin wednesday \\nit includ 150 russian paratroop 50 air forc staffer three transport plane unspecifi number troop serbia belaru russia’ defens ministri said \\nthe fiveday nato drill montenegro start monday involv respond flood chemic attack involv 680 unarm personnel seven nato countri 10 partner state \\nin past serbia montenegro constitut republ socialist feder republ yugoslavia \\nboth countri socialist republ tradit russian christian orthodox alli 2003 state union reform serbia montenegro 2006 two becam independ state \\nsinc split two balkan neighbor seem head differ direct strateg \\nmontenegro taken prowestern stanc award nato offer join northern atlant allianc \\nthe nato invit montenegro met strong opposit russia \\nmeanwhil montenegrin offici accus russia stage alleg coup octob toppl prowestern govern nato access bid \\nserbia nato partner held exercis western allianc larg one foreign troop equip particip soil'\n",
      " 'keep f35 aliv david swanson david swanson author activist journalist radio host 2015 nobel peac prize nomine director worldbeyondwarcom campaign coordin rootsactionorg host talk nation radio talk nation radio vt radio syndic pacifica network show also air wtju charlottesvil va wcsxdetroit mi kghi westport wa whu storr ct wprr grand rapid mi krfplp moscow id kzgm cabool mo kmud garbervil ca wazu peoria il wxrd crown point geneva radio geneva ny kkrn round mountain ca kskqlp ashland wuowlp oneonta ny lie radio pinol ca wyaplp clay wv detour johnson citi tn wzrd chicago il weft champaign il wxpi pittsburgh pa wdrt viroqua wi verac onlin liberti justic radio shirley ithaca commun radio ithaca ny wmcb greenfield prxorg kao 893fm olympia wa wusb 901 fm stoni brook ny woolfm bellow fall vermont wslrlp 965 sarasota florida also blog davidswansonorg warisacrimeorg prolif author latest book war lie daybreak undo imperi presid form perfect union world outlaw war swanson hold master degre philosophi univers virginia work newspap report commun director job includ press secretari denni kucinich 2004 presidenti campaign media coordin intern labor commun associ three year commun coordin acorn associ commun organ reform read full complet biographi davidswansonorg also visit book site war crime keep f35 aliv david swanson octob 31 2016 petit stop f35 go global \\nbi david swanson \\nimagin local busi town invent brand new tool intend almost magic effect thousand mile away howev tool kept use local becam area unsaf children children got near tool tend increas blood pressur increas stress hormon lower read skill poorer memori impair auditori speech percept impair academ perform \\nmost us would find situat least littl concern unless new invent design murder lot peopl it’d fine \\nnow imagin new tool ruin neighborhood peopl couldn’t safe live near imagin govern compens peopl kick live near locat tool think might find troubl mass murder mission \\nimagin also tool fairli frequent explod emit highli toxic chemic particl fiber unsaf breath air mile around normal that’d problem tool need kill lot peopl we’ll work flaw won’t \\nnow new gadget expect cost least 1400000000000 50 year money taken away numer expens benefici economi world 14 trillion drain economi caus loss job radic diminuit resourc educ healthcar hous environment protect humanitarian aid wouldn’t worri case mean case abil kill ton human be wasn’t stake \\nwhat product even work perfectli lead destroy earth’ natur environ \\nwhat hightech toy wasn’t even design expect wasn’t even abl design \\namazingli even shortcom matter long intent massiv murder destruct forgiven \\nthe tool i’m describ call f35 rootsactionorg find new petit launch locallymind peopl act global place f35 intend base also link you’ll find explan tool i’v decrib f35 \\nthe petit direct unit state congress govern australia itali netherland norway turkey unit kingdom israel japan south korea world peopl burlington vermont fairbank alaska f35 base effort initi vermont stop f35 coalit save sky vermont western main matter alaska peac center univers alaska fairbank peac club north star chapter 146 veteran peac world beyond war rootsactionorg code pink ben cohen \\nthe petit read \\nthe f35 weapon offens war serv defens purpos plan cost us 14 trillion 50 year starvat earth could end 30 billion lack clean drink water 11 billion per year first foremost wast resourc airplan kill militari spend contrari popular misconcept also hurt us economi see economi f35 caus neg health impact cognit impair children live near base render hous near airport unsuit residenti use high crash rate horribl consequ live area crash emiss major environment pollut \\nwar endang unit state particip nation rather protect nonviol tool law diplomaci aid crisi prevent verifi nuclear disarma substitut continu counterproduct war therefor undersign call immedi cancel f35 program whole immedi cancel plan base danger noisi jet near popul area oppos replac f35 weapon base f35 locat demand redirect money f35 back taxpayers’ pocket environment human need us f35 custom nation around world includ fight climat chang pay student debt rebuild crumbl infrastructur improv educ healthcar hous \\nadd name \\ndavid swanson author activist journalist radio host director worldbeyondwarorg campaign coordin rootsactionorg swanson’ book includ war lie blog davidswansonorg warisacrimeorg host talk nation radio 2015 2016 nobel peac prize nomine \\nfollow twitter davidcnswanson facebook \\nhelp support davidswansonorg warisacrimeorg talknationradioorg click httpdavidswansonorgdon'] 1\n"
     ]
    },
    {
     "name": "stdout",
     "output_type": "stream",
     "text": [
      "  (0, 152964)\t0.04794745114060578\n",
      "  (0, 88664)\t0.04548201563212376\n",
      "  (0, 25726)\t0.020677781222258863\n",
      "  (0, 31003)\t0.02375343247217315\n",
      "  (0, 50388)\t0.018168976975375176\n",
      "  (0, 33324)\t0.03822328611454085\n",
      "  (0, 37628)\t0.048405547611755126\n",
      "  (0, 53490)\t0.012034385135720247\n",
      "  (0, 95302)\t0.03882512836689367\n",
      "  (0, 86701)\t0.026093272733704282\n",
      "  (0, 137970)\t0.04398046543221728\n",
      "  (0, 7836)\t0.022531856926773473\n",
      "  (0, 133978)\t0.022223787690189113\n",
      "  (0, 69877)\t0.01721252884569601\n",
      "  (0, 126813)\t0.02611264043614292\n",
      "  (0, 122148)\t0.026868552236363957\n",
      "  (0, 130884)\t0.01653161495743642\n",
      "  (0, 39975)\t0.02339853947492204\n",
      "  (0, 81885)\t0.019291412313574733\n",
      "  (0, 142639)\t0.03713414217700072\n",
      "  (0, 30033)\t0.04615155007609236\n",
      "  (0, 28946)\t0.037476948262454575\n",
      "  (0, 96664)\t0.048405547611755126\n",
      "  (0, 132945)\t0.025150598472894282\n",
      "  (0, 31987)\t0.020261697689467204\n",
      "  :\t:\n",
      "  (20799, 52455)\t0.04714868555690564\n",
      "  (20799, 85366)\t0.011825314327528924\n",
      "  (20799, 59253)\t0.013314039849856164\n",
      "  (20799, 149072)\t0.009555388590282375\n",
      "  (20799, 115664)\t0.019225642145571094\n",
      "  (20799, 59329)\t0.02073696741387462\n",
      "  (20799, 141766)\t0.01178204069056738\n",
      "  (20799, 94965)\t0.046532606172569935\n",
      "  (20799, 151527)\t0.027176216043977748\n",
      "  (20799, 80907)\t0.02463648434231224\n",
      "  (20799, 70639)\t0.015439688123035157\n",
      "  (20799, 87264)\t0.026739704876335202\n",
      "  (20799, 82791)\t0.01250237025733591\n",
      "  (20799, 27536)\t0.023213814145461028\n",
      "  (20799, 83367)\t0.011215704438792233\n",
      "  (20799, 11401)\t0.045541347161471464\n",
      "  (20799, 41270)\t0.03929979441954675\n",
      "  (20799, 151598)\t0.050117932590018684\n",
      "  (20799, 2966)\t0.020570119564548073\n",
      "  (20799, 3953)\t0.015278953488870957\n",
      "  (20799, 99467)\t0.013943471790506529\n",
      "  (20799, 123535)\t0.00993565696677331\n",
      "  (20799, 49090)\t0.033856520207216516\n",
      "  (20799, 9687)\t0.030946820889038374\n",
      "  (20799, 65988)\t0.03278023667846383 2\n"
     ]
    }
   ],
   "source": [
    "vectorizer=TfidfVectorizer()\n",
    "vectorizer.fit(x)\n",
    "print(x, x.ndim)\n",
    "\n",
    "x=vectorizer.fit_transform(x)\n",
    "print(x, x.ndim)"
   ]
  },
  {
   "cell_type": "code",
   "execution_count": 20,
   "id": "d8dc87f8",
   "metadata": {},
   "outputs": [
    {
     "name": "stdout",
     "output_type": "stream",
     "text": [
      "(20800, 180081)\n"
     ]
    }
   ],
   "source": [
    "print(x.shape)"
   ]
  },
  {
   "cell_type": "code",
   "execution_count": 21,
   "id": "98e0fae5",
   "metadata": {},
   "outputs": [],
   "source": [
    "from sklearn.model_selection import train_test_split\n",
    "\n",
    "x_train, x_test, y_train, y_test=train_test_split(x,y, test_size=0.2, random_state=0)"
   ]
  },
  {
   "cell_type": "code",
   "execution_count": 22,
   "id": "90751fc6",
   "metadata": {},
   "outputs": [],
   "source": [
    "from sklearn.linear_model import LogisticRegression\n",
    "from sklearn.neighbors import KNeighborsClassifier\n",
    "from sklearn.svm import SVC\n",
    "from sklearn.naive_bayes import GaussianNB\n",
    "from sklearn.tree import DecisionTreeClassifier\n",
    "from sklearn.ensemble import RandomForestClassifier"
   ]
  },
  {
   "cell_type": "code",
   "execution_count": 23,
   "id": "183306ae",
   "metadata": {},
   "outputs": [],
   "source": [
    "# pipe=[\n",
    "#     {\n",
    "#         \"name\":\"Logistic Regression\",\n",
    "#         \"model\":LogisticRegression()\n",
    "#     },\n",
    "#        {\n",
    "#         \"name\":\"KNeighborsClassifier\",\n",
    "#        \"model\":KNeighborsClassifier(n_neighbors=5)\n",
    "#     },\n",
    "# #        {\n",
    "# #         \"name\":\"SVC\",\n",
    "# #        \"model\":SVC(kernel=\"rbf\")\n",
    "# #     },\n",
    "# #        {\n",
    "# #         \"name\":\"naive_bayes\",\n",
    "# #         \"model\":GaussianNB()\n",
    "# #     },\n",
    "#        {\n",
    "#         \"name\":\"Decision Tree\",\n",
    "#         \"model\":DecisionTreeClassifier()\n",
    "#     },\n",
    "#        {\n",
    "#         \"name\":\"RandomForest\",\n",
    "#         \"model\":RandomForestClassifier()\n",
    "#     },\n",
    "# ]\n"
   ]
  },
  {
   "cell_type": "code",
   "execution_count": 24,
   "id": "fcafa8e8",
   "metadata": {},
   "outputs": [],
   "source": [
    "from sklearn.metrics import confusion_matrix , accuracy_score\n",
    "\n",
    "# for i in pipe:\n",
    "#     print(i[\"name\"], end=\":\")\n",
    "#     regressor=i[\"model\"]\n",
    "    \n",
    "#     regressor.fit(x_train, y_train)\n",
    "#     y_pred=regressor.predict(x_test)\n",
    "#     print(accuracy_score(y_test, y_pred))\n",
    "    \n",
    "    "
   ]
  },
  {
   "cell_type": "code",
   "execution_count": 25,
   "id": "397ad014",
   "metadata": {},
   "outputs": [
    {
     "data": {
      "text/html": [
       "<style>#sk-container-id-1 {color: black;background-color: white;}#sk-container-id-1 pre{padding: 0;}#sk-container-id-1 div.sk-toggleable {background-color: white;}#sk-container-id-1 label.sk-toggleable__label {cursor: pointer;display: block;width: 100%;margin-bottom: 0;padding: 0.3em;box-sizing: border-box;text-align: center;}#sk-container-id-1 label.sk-toggleable__label-arrow:before {content: \"▸\";float: left;margin-right: 0.25em;color: #696969;}#sk-container-id-1 label.sk-toggleable__label-arrow:hover:before {color: black;}#sk-container-id-1 div.sk-estimator:hover label.sk-toggleable__label-arrow:before {color: black;}#sk-container-id-1 div.sk-toggleable__content {max-height: 0;max-width: 0;overflow: hidden;text-align: left;background-color: #f0f8ff;}#sk-container-id-1 div.sk-toggleable__content pre {margin: 0.2em;color: black;border-radius: 0.25em;background-color: #f0f8ff;}#sk-container-id-1 input.sk-toggleable__control:checked~div.sk-toggleable__content {max-height: 200px;max-width: 100%;overflow: auto;}#sk-container-id-1 input.sk-toggleable__control:checked~label.sk-toggleable__label-arrow:before {content: \"▾\";}#sk-container-id-1 div.sk-estimator input.sk-toggleable__control:checked~label.sk-toggleable__label {background-color: #d4ebff;}#sk-container-id-1 div.sk-label input.sk-toggleable__control:checked~label.sk-toggleable__label {background-color: #d4ebff;}#sk-container-id-1 input.sk-hidden--visually {border: 0;clip: rect(1px 1px 1px 1px);clip: rect(1px, 1px, 1px, 1px);height: 1px;margin: -1px;overflow: hidden;padding: 0;position: absolute;width: 1px;}#sk-container-id-1 div.sk-estimator {font-family: monospace;background-color: #f0f8ff;border: 1px dotted black;border-radius: 0.25em;box-sizing: border-box;margin-bottom: 0.5em;}#sk-container-id-1 div.sk-estimator:hover {background-color: #d4ebff;}#sk-container-id-1 div.sk-parallel-item::after {content: \"\";width: 100%;border-bottom: 1px solid gray;flex-grow: 1;}#sk-container-id-1 div.sk-label:hover label.sk-toggleable__label {background-color: #d4ebff;}#sk-container-id-1 div.sk-serial::before {content: \"\";position: absolute;border-left: 1px solid gray;box-sizing: border-box;top: 0;bottom: 0;left: 50%;z-index: 0;}#sk-container-id-1 div.sk-serial {display: flex;flex-direction: column;align-items: center;background-color: white;padding-right: 0.2em;padding-left: 0.2em;position: relative;}#sk-container-id-1 div.sk-item {position: relative;z-index: 1;}#sk-container-id-1 div.sk-parallel {display: flex;align-items: stretch;justify-content: center;background-color: white;position: relative;}#sk-container-id-1 div.sk-item::before, #sk-container-id-1 div.sk-parallel-item::before {content: \"\";position: absolute;border-left: 1px solid gray;box-sizing: border-box;top: 0;bottom: 0;left: 50%;z-index: -1;}#sk-container-id-1 div.sk-parallel-item {display: flex;flex-direction: column;z-index: 1;position: relative;background-color: white;}#sk-container-id-1 div.sk-parallel-item:first-child::after {align-self: flex-end;width: 50%;}#sk-container-id-1 div.sk-parallel-item:last-child::after {align-self: flex-start;width: 50%;}#sk-container-id-1 div.sk-parallel-item:only-child::after {width: 0;}#sk-container-id-1 div.sk-dashed-wrapped {border: 1px dashed gray;margin: 0 0.4em 0.5em 0.4em;box-sizing: border-box;padding-bottom: 0.4em;background-color: white;}#sk-container-id-1 div.sk-label label {font-family: monospace;font-weight: bold;display: inline-block;line-height: 1.2em;}#sk-container-id-1 div.sk-label-container {text-align: center;}#sk-container-id-1 div.sk-container {/* jupyter's `normalize.less` sets `[hidden] { display: none; }` but bootstrap.min.css set `[hidden] { display: none !important; }` so we also need the `!important` here to be able to override the default hidden behavior on the sphinx rendered scikit-learn.org. See: https://github.com/scikit-learn/scikit-learn/issues/21755 */display: inline-block !important;position: relative;}#sk-container-id-1 div.sk-text-repr-fallback {display: none;}</style><div id=\"sk-container-id-1\" class=\"sk-top-container\"><div class=\"sk-text-repr-fallback\"><pre>LogisticRegression()</pre><b>In a Jupyter environment, please rerun this cell to show the HTML representation or trust the notebook. <br />On GitHub, the HTML representation is unable to render, please try loading this page with nbviewer.org.</b></div><div class=\"sk-container\" hidden><div class=\"sk-item\"><div class=\"sk-estimator sk-toggleable\"><input class=\"sk-toggleable__control sk-hidden--visually\" id=\"sk-estimator-id-1\" type=\"checkbox\" checked><label for=\"sk-estimator-id-1\" class=\"sk-toggleable__label sk-toggleable__label-arrow\">LogisticRegression</label><div class=\"sk-toggleable__content\"><pre>LogisticRegression()</pre></div></div></div></div></div>"
      ],
      "text/plain": [
       "LogisticRegression()"
      ]
     },
     "execution_count": 25,
     "metadata": {},
     "output_type": "execute_result"
    }
   ],
   "source": [
    "classifier=LogisticRegression()\n",
    "classifier.fit(x_train, y_train)\n"
   ]
  },
  {
   "cell_type": "code",
   "execution_count": 26,
   "id": "8da4afb1",
   "metadata": {},
   "outputs": [],
   "source": [
    "def predicting(content):\n",
    "    content=stemming(content)\n",
    "    content=numpy.array(content,ndmin=1)\n",
    "    content=vectorizer.transform(content)\n",
    "    y_pred=classifier.predict(content)\n",
    "    print(y_pred)\n",
    "    return y_pred\n",
    "        "
   ]
  },
  {
   "cell_type": "code",
   "execution_count": 27,
   "id": "531d6fd7",
   "metadata": {},
   "outputs": [
    {
     "name": "stdout",
     "output_type": "stream",
     "text": [
      "[0]\n"
     ]
    },
    {
     "data": {
      "text/plain": [
       "array([0], dtype=int64)"
      ]
     },
     "execution_count": 27,
     "metadata": {},
     "output_type": "execute_result"
    }
   ],
   "source": [
    "predicting(\"Clinton taking in $7. 7 million from the tech community, according to Crowdpac, a   that tracks donations. By that point in 2012, Crowdpac says, President Obama had raised $21 million from entrepreneurs and venture capitalists. Reid Hoffman, the billionaire   of the business networking site LinkedIn, offers a snapshot of Silicon Valleyâ€™s evolving approach to politics. Mr. Hoffman was a top Obama donor, giving $1 million to the Priorities USA political action committee, something several of his peers did as well. Last month, Mr. Hoffman garnered worldwide publicity for saying he would donate up to $5 million to veteransâ€™ groups if Mr. Trump released his taxes, a remote possibility that never came to pass. He has castigated Mr. Trump in interviews, saying he was speaking for those who were afraid. Mr. Hoffmanâ€™s outright donations, however, have been smaller this election cycle. In May, he gave $400, 000 to the Hillary Victory Fund. Asked if there was more recent giving that had not shown up in federal election records, Mr. Hoffman cryptically responded in an email, â€œLooking at some PACs, etc. â€ He declined several opportunities to elaborate. Even as Priorities USA has raised $133 million this election cycle, far exceeding its total in 2012, its tech contributions have dwindled. The only familiar tech name this time around is John Doerr of the venture capital firm Kleiner Perkins Caufield  Byers, who gave $500, 000. The AOL   Steve Case said his September endorsement of Mrs. Clinton, via an   in The Washington Post, was the first time he ever publicly declared for a candidate. â€œI always focused on policy and avoided politics,â€ he said. â€œBut if Trump were elected president, I would be disappointed in myself for not acting. â€ When he wrote the   he was uncertain about donating money to Mrs. Clinton, saying only that it was â€œprobable. â€ A spokeswoman said Sunday that Mr. Case gave $25, 000 to the Hillary Victory Fund. Mason Harrison, Crowdpacâ€™s head of communications, offered a possible reason for Mrs. Clintonâ€™s    support. â€œDonors give to support candidates they love, not to defeat candidates they fear,â€ he said. A few billionaires are acting instead of talking. Dustin Moskovitz, a founder of Facebook, said he was giving $20 million to various Democratic election efforts  â€”   the first time he and his wife, Cari Tuna, have endorsed a candidate. He declined to be interviewed. \")"
   ]
  },
  {
   "cell_type": "code",
   "execution_count": 28,
   "id": "3467a779",
   "metadata": {},
   "outputs": [],
   "source": [
    "import pickle"
   ]
  },
  {
   "cell_type": "code",
   "execution_count": 29,
   "id": "b4204912",
   "metadata": {},
   "outputs": [],
   "source": [
    "vector=pickle.dump(vectorizer, open(\"vectorizer.pkl\",\"wb\"))\n",
    "model=pickle.dump(classifier, open(\"model.pkl\",\"wb\"))\n"
   ]
  },
  {
   "cell_type": "code",
   "execution_count": null,
   "id": "7bf2a8a0",
   "metadata": {},
   "outputs": [],
   "source": []
  }
 ],
 "metadata": {
  "kernelspec": {
   "display_name": "Python 3 (ipykernel)",
   "language": "python",
   "name": "python3"
  },
  "language_info": {
   "codemirror_mode": {
    "name": "ipython",
    "version": 3
   },
   "file_extension": ".py",
   "mimetype": "text/x-python",
   "name": "python",
   "nbconvert_exporter": "python",
   "pygments_lexer": "ipython3",
   "version": "3.10.5"
  }
 },
 "nbformat": 4,
 "nbformat_minor": 5
}
